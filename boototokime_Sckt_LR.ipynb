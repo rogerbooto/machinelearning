{
 "cells": [
  {
   "cell_type": "markdown",
   "metadata": {},
   "source": [
    "# Simple linear regression with Scikit-Learn\n",
    "\n",
    "Here, we will create a program that will do a simple linear regression using the Scikit-Learn library.\n",
    "This program will contain research analysis and result explainations"
   ]
  },
  {
   "cell_type": "markdown",
   "metadata": {},
   "source": [
    "## First - Lets import our libraries"
   ]
  },
  {
   "cell_type": "code",
   "execution_count": 39,
   "metadata": {
    "collapsed": true
   },
   "outputs": [],
   "source": [
    "import numpy as np #We will be using numpy to load our data and do our matrix operations\n",
    "from sklearn.linear_model import LinearRegression #We will be using scikit-learn as our machine learning library\n",
    "from sklearn.metrics import mean_squared_error\n",
    "import matplotlib.pyplot as plt"
   ]
  },
  {
   "cell_type": "markdown",
   "metadata": {},
   "source": [
    "## Second - Lets load our data with numpy"
   ]
  },
  {
   "cell_type": "code",
   "execution_count": 2,
   "metadata": {
    "collapsed": true
   },
   "outputs": [],
   "source": [
    "data = np.genfromtxt(fname = \"SensData.csv\", delimiter=\",\", names=[\"x\", \"y\"]);   '''Since we are loading a csv file, \n",
    "                                                                                we specify the type of delimiter\n",
    "                                                                                we have also specify the data names\n",
    "                                                                                to make the retrieval more readable'''"
   ]
  },
  {
   "cell_type": "markdown",
   "metadata": {},
   "source": [
    "### What kind of data do we have ?\n",
    "\n",
    "The data we have loaded is a set of coordinates that follows a linear model, which will help us validate the and see our predicted model with Scikit-Learn"
   ]
  },
  {
   "cell_type": "code",
   "execution_count": 3,
   "metadata": {},
   "outputs": [
    {
     "data": {
      "text/plain": [
       "array([(2.0659, 0.77919), (2.3684, 0.91597), (2.54  , 0.90538),\n",
       "       (2.5421, 0.90566), (2.5491, 0.93899), (2.7867, 0.96685),\n",
       "       (2.9117, 0.96437), (3.0356, 0.91446), (3.1147, 0.93934),\n",
       "       (3.1582, 0.96075), (3.3276, 0.89837), (3.3793, 0.9121 ),\n",
       "       (3.4122, 0.94238), (3.4216, 0.96625), (3.5316, 1.0527 ),\n",
       "       (3.6393, 1.0144 ), (3.6733, 0.95969), (3.9256, 0.96854),\n",
       "       (4.0499, 1.0766 ), (4.2483, 1.1455 ), (4.344 , 1.0341 ),\n",
       "       (4.3827, 1.007  ), (4.4231, 0.96684), (4.6102, 1.0896 ),\n",
       "       (4.6881, 1.0634 ), (4.9777, 1.1237 ), (5.036 , 1.0323 ),\n",
       "       (5.0685, 1.0874 ), (5.4161, 1.0703 ), (5.4396, 1.1606 ),\n",
       "       (5.4563, 1.0778 ), (5.5698, 1.107  ), (5.6016, 1.0972 ),\n",
       "       (5.6878, 1.1649 ), (5.7216, 1.1412 ), (5.8539, 1.0844 ),\n",
       "       (6.1978, 1.1252 ), (6.3511, 1.1168 ), (6.4797, 1.1971 ),\n",
       "       (6.7384, 1.2069 ), (6.8638, 1.1251 ), (7.0223, 1.1236 ),\n",
       "       (7.0782, 1.2133 ), (7.1514, 1.2523 ), (7.4664, 1.2497 ),\n",
       "       (7.5974, 1.18   ), (7.7441, 1.1897 ), (7.773 , 1.303  ),\n",
       "       (7.8265, 1.2601 ), (7.9306, 1.2562 )],\n",
       "      dtype=[('x', '<f8'), ('y', '<f8')])"
      ]
     },
     "execution_count": 3,
     "metadata": {},
     "output_type": "execute_result"
    }
   ],
   "source": [
    "#Lets have a look of our data in a raw form (matrix way)\n",
    "data"
   ]
  },
  {
   "cell_type": "markdown",
   "metadata": {},
   "source": [
    "### Lets plot our data \n",
    "\n",
    "This way, we will be able to see that our data is based of a linear model"
   ]
  },
  {
   "cell_type": "code",
   "execution_count": 4,
   "metadata": {},
   "outputs": [
    {
     "data": {
      "image/png": "[encoded data removed]",
      "text/plain": [
       "<matplotlib.figure.Figure at 0x7fd9b3d57d68>"
      ]
     },
     "metadata": {},
     "output_type": "display_data"
    }
   ],
   "source": [
    "x = data[\"x\"]; #Get the values in our x column\n",
    "y = data[\"y\"]; #Get the values in out y column\n",
    "plt.title('Visual representation of SensData', fontweight=\"bold\");\n",
    "plt.xlabel(\"Data x\", fontweight=\"bold\");\n",
    "plt.ylabel(\"Data y\", fontweight=\"bold\");\n",
    "plt.plot(x,y,'x',label=\"The data\");\n",
    "plt.show()"
   ]
  },
  {
   "cell_type": "markdown",
   "metadata": {},
   "source": [
    "## Third - Lets do our linear regression\n",
    "\n",
    "Here we want to predict the value of \"Data y\" based on a feature \"Data x\".\n",
    "\n",
    "#### Quick reminders:\n",
    "\n",
    "A linear model is described as the following formula: \n",
    "\\begin{align}\n",
    "y = ax + b\n",
    "\\end{align}\n",
    "\n",
    "In our case the linear model is described as follow: \n",
    "\\begin{align}\n",
    "h(x) = \\theta_0 x_0 + \\theta_1 x_1; x_0  = 1\n",
    "\\end{align}\n",
    "\n",
    "since x0 is always going to have the value of 1, we can rewrite our model formula as follow:\n",
    "\n",
    "\\begin{align}\n",
    "h(x) = \\theta_0 + \\theta_1 x_1\n",
    "\\end{align}\n",
    "\n",
    "As we can see, our linear model looks a lot like the linear formula if we substitute the following variabes:\n",
    "\n",
    "<ul>\n",
    " <li> h(x) <==> y\n",
    " <li> &thetasym;0 <==> b\n",
    " <li> &thetasym;1 x1 <==> ax\n",
    "</ul>\n",
    "\n",
    "#### Variables description:\n",
    "<ul>\n",
    " <li> <b>h(x)</b>: Is the predicted output value from an input feature vector\n",
    " <li> <b>&thetasym;0</b>: Is the intercept of the function\n",
    " <li> <b>&thetasym;1</b>: Is the learned parameter value from our data\n",
    " <li> <b>x1</b>: Is the input value we want to predict\n",
    "</ul>"
   ]
  },
  {
   "cell_type": "markdown",
   "metadata": {},
   "source": [
    "### Lets create our regression model"
   ]
  },
  {
   "cell_type": "code",
   "execution_count": 5,
   "metadata": {
    "collapsed": true
   },
   "outputs": [],
   "source": [
    "model = LinearRegression(); #Creates a simple unnormalized data model"
   ]
  },
  {
   "cell_type": "markdown",
   "metadata": {},
   "source": [
    "### Lets fit our model with our data"
   ]
  },
  {
   "cell_type": "code",
   "execution_count": 6,
   "metadata": {
    "collapsed": true
   },
   "outputs": [],
   "source": [
    "xFeatureVector = x.reshape(-1,1); #Since we have a single feature (x is a 1D array) and that the \"fit\" method expects a 2D,\n",
    "                     #we need to reshape our feature vector x;\n",
    "model.fit(xFeatureVector, y); #We are mapping our feature vector x with our output vector y"
   ]
  },
  {
   "cell_type": "markdown",
   "metadata": {},
   "source": [
    "### Lets see what happened there !"
   ]
  },
  {
   "cell_type": "markdown",
   "metadata": {},
   "source": [
    "<ol>\n",
    "    <li>We have created a linear data model with unnormalized data</li>\n",
    "    <li>We have computed a fit on the data. Essentially we have estimated what is the best line that fits our data</li>\n",
    "</ol>"
   ]
  },
  {
   "cell_type": "markdown",
   "metadata": {},
   "source": [
    "### Lets have a look of our variables"
   ]
  },
  {
   "cell_type": "code",
   "execution_count": 7,
   "metadata": {},
   "outputs": [
    {
     "name": "stdout",
     "output_type": "stream",
     "text": [
      "Estimated theta0 (intercept) coefficient: 0.750167784345263\n"
     ]
    }
   ],
   "source": [
    "print ('Estimated theta0 (intercept) coefficient:', model.intercept_);"
   ]
  },
  {
   "cell_type": "code",
   "execution_count": 8,
   "metadata": {},
   "outputs": [
    {
     "name": "stdout",
     "output_type": "stream",
     "text": [
      "Estimated theta1 coefficient: 0.06387975236997191\n"
     ]
    }
   ],
   "source": [
    "print ('Estimated theta1 coefficient:', model.coef_[0]); #Here we only have one feature so we can directly print it"
   ]
  },
  {
   "cell_type": "markdown",
   "metadata": {},
   "source": [
    "### Lets print our model formula"
   ]
  },
  {
   "cell_type": "code",
   "execution_count": 9,
   "metadata": {},
   "outputs": [
    {
     "name": "stdout",
     "output_type": "stream",
     "text": [
      "h(x) = 0.750167784345263 + 0.06387975236997191 * x\n"
     ]
    }
   ],
   "source": [
    "b = model.intercept_;\n",
    "a = model.coef_[0];\n",
    "print ('h(x) = {0} + {1} * x'.format(b,a));"
   ]
  },
  {
   "cell_type": "markdown",
   "metadata": {},
   "source": [
    "### Lets predict some values of x\n",
    "\n",
    "Here, we are going to predict the output value of the following input values {3.5, 5, 5.5, 7}"
   ]
  },
  {
   "cell_type": "code",
   "execution_count": 10,
   "metadata": {},
   "outputs": [
    {
     "name": "stdout",
     "output_type": "stream",
     "text": [
      "The predicted value of 3.5\tis\t0.9737469176401647\n",
      "The predicted value of 5\tis\t1.0695665461951225\n",
      "The predicted value of 5.5\tis\t1.1015064223801085\n",
      "The predicted value of 7\tis\t1.1973260509350663\n"
     ]
    }
   ],
   "source": [
    "xToPredict = [3.5, 5, 5.5, 7];\n",
    "\n",
    "for val in xToPredict:\n",
    "    print ('The predicted value of {0}\\tis\\t{1}'.format(val, model.predict(val)[0]));"
   ]
  },
  {
   "cell_type": "markdown",
   "metadata": {},
   "source": [
    "### Lets calculate our lost with the mean square error"
   ]
  },
  {
   "cell_type": "code",
   "execution_count": 40,
   "metadata": {},
   "outputs": [
    {
     "name": "stdout",
     "output_type": "stream",
     "text": [
      "Mean square error: 0.0019743600067480046\n"
     ]
    }
   ],
   "source": [
    "ypredicted = [];\n",
    "for val in x:\n",
    "    ypredicted.append(model.predict(val)[0]); #Get the predicted values from our original dataset\n",
    "    \n",
    "print(\"Mean square error: {0}\".format(mean_squared_error(y,ypredicted)))"
   ]
  },
  {
   "cell_type": "markdown",
   "metadata": {},
   "source": [
    "### Lets see the fit of our model to our original data"
   ]
  },
  {
   "cell_type": "code",
   "execution_count": 15,
   "metadata": {},
   "outputs": [
    {
     "data": {
      "image/png": "[encoded data removed]",
      "text/plain": [
       "<matplotlib.figure.Figure at 0x7fd9b1bb75c0>"
      ]
     },
     "metadata": {},
     "output_type": "display_data"
    }
   ],
   "source": [
    "min_x = min(x);\n",
    "max_x = max(x);\n",
    "\n",
    "plt.title('Fitted linear regression of SensData', fontweight=\"bold\");\n",
    "plt.xlabel(\"Data x\", fontweight=\"bold\");\n",
    "plt.ylabel(\"Data y\", fontweight=\"bold\");\n",
    "plt.plot(x,y, 'x', label=\"data\"); #Our original data\n",
    "plt.plot([min_x, max_x], [b, a * max_x + b], color=\"r\", label=\"prediction\");#Showing the line starting from the intercept (b) and \n",
    "                                                        #finishng at the predicted value of max_x (a * max_x + b)\n",
    "plt.legend(bbox_to_anchor=(1.05, 1), loc=2, borderaxespad=0.)\n",
    "plt.show();"
   ]
  },
  {
   "cell_type": "markdown",
   "metadata": {},
   "source": [
    "### Conclusion"
   ]
  },
  {
   "cell_type": "markdown",
   "metadata": {},
   "source": [
    "As we can see our linear regression model is able to represent the trend from our input data."
   ]
  }
 ],
 "metadata": {
  "kernelspec": {
   "display_name": "Python 3",
   "language": "python",
   "name": "python3"
  },
  "language_info": {
   "codemirror_mode": {
    "name": "ipython",
    "version": 3
   },
   "file_extension": ".py",
   "mimetype": "text/x-python",
   "name": "python",
   "nbconvert_exporter": "python",
   "pygments_lexer": "ipython3",
   "version": "3.6.4"
  }
 },
 "nbformat": 4,
 "nbformat_minor": 2
}
